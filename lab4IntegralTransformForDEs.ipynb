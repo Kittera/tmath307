{
 "cells": [
  {
   "cell_type": "markdown",
   "metadata": {},
   "source": [
    "In class, we learned about the Laplace transform. For a *nice* function $f(t)$, we can compute its Laplace transform by $$\\mathcal{L}\\{f\\}(s)=\\int^{\\infty}_0e^{-st}f(t)dt.$$\n",
    "\n",
    "As we mentioned in class, Laplace transform is one of the integral transforms you would encounter in the future. The reason why we use the Laplace transform to solve DEs, is that it conveniently  converts a *differential equation* into a *algebriac equation*. In this lab, we will introduce another useful integral transform in solving differential equations. It is the **Fourier transform**, defined as follows: \n",
    "$$\\mathcal{F}\\{f\\}(k)=\\int^{\\infty}_{-\\infty}e^{-2\\pi ikx}f(x)dx.$$\n",
    "Numerically speaking, it is normally implemented as the *Fast Fourier Transform*. It is considered [one of the most important algorithms in the 20th century.](https://archive.siam.org/pdf/news/637.pdf). Similar to Laplace transform, FT also works for linear equations. "
   ]
  },
  {
   "cell_type": "code",
   "execution_count": null,
   "metadata": {},
   "outputs": [],
   "source": []
  }
 ],
 "metadata": {
  "kernelspec": {
   "display_name": "Python 3",
   "language": "python",
   "name": "python3"
  },
  "language_info": {
   "codemirror_mode": {
    "name": "ipython",
    "version": 3
   },
   "file_extension": ".py",
   "mimetype": "text/x-python",
   "name": "python",
   "nbconvert_exporter": "python",
   "pygments_lexer": "ipython3",
   "version": "3.6.9"
  }
 },
 "nbformat": 4,
 "nbformat_minor": 2
}
